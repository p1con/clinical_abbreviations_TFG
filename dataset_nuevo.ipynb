{
 "cells": [
  {
   "cell_type": "code",
   "execution_count": 55,
   "id": "initial_id",
   "metadata": {
    "collapsed": true,
    "ExecuteTime": {
     "end_time": "2024-05-04T21:28:26.342269Z",
     "start_time": "2024-05-04T21:28:26.276545Z"
    }
   },
   "outputs": [],
   "source": [
    "import re\n",
    "import pandas as pd\n",
    "from unidecode import unidecode"
   ]
  },
  {
   "cell_type": "markdown",
   "source": [
    "## Dataset"
   ],
   "metadata": {
    "collapsed": false
   },
   "id": "b7bcf655519444fc"
  },
  {
   "cell_type": "code",
   "execution_count": 56,
   "outputs": [],
   "source": [
    "df = pd.read_csv(\"/Users/p1con/Documents/UNIVERSIDAD/TFG/datos/dataset.tsv\", sep='\\t', quoting=3)\n",
    "df1 = df.loc[df['lang'] == 'es']\n",
    "barr = df[['id','lang','text']]"
   ],
   "metadata": {
    "collapsed": false,
    "ExecuteTime": {
     "end_time": "2024-05-04T21:28:27.950049Z",
     "start_time": "2024-05-04T21:28:26.346782Z"
    }
   },
   "id": "60951c7c3b84b234"
  },
  {
   "cell_type": "code",
   "execution_count": 57,
   "outputs": [
    {
     "data": {
      "text/plain": "   id lang                                               text\n0   1   es  Toxoplasma gondii es un protozoo intracelular ...\n1   2   es  Actualmente los pacientes con cáncer de pulmón...\n2   3   es  La asociación de tumor carcinoide y carcinoma ...\n3   4   es  La linfadenitis cervical aislada por leishmani...\n4   5   es  Introducción. La infección intraabdominal gran...",
      "text/html": "<div>\n<style scoped>\n    .dataframe tbody tr th:only-of-type {\n        vertical-align: middle;\n    }\n\n    .dataframe tbody tr th {\n        vertical-align: top;\n    }\n\n    .dataframe thead th {\n        text-align: right;\n    }\n</style>\n<table border=\"1\" class=\"dataframe\">\n  <thead>\n    <tr style=\"text-align: right;\">\n      <th></th>\n      <th>id</th>\n      <th>lang</th>\n      <th>text</th>\n    </tr>\n  </thead>\n  <tbody>\n    <tr>\n      <th>0</th>\n      <td>1</td>\n      <td>es</td>\n      <td>Toxoplasma gondii es un protozoo intracelular ...</td>\n    </tr>\n    <tr>\n      <th>1</th>\n      <td>2</td>\n      <td>es</td>\n      <td>Actualmente los pacientes con cáncer de pulmón...</td>\n    </tr>\n    <tr>\n      <th>2</th>\n      <td>3</td>\n      <td>es</td>\n      <td>La asociación de tumor carcinoide y carcinoma ...</td>\n    </tr>\n    <tr>\n      <th>3</th>\n      <td>4</td>\n      <td>es</td>\n      <td>La linfadenitis cervical aislada por leishmani...</td>\n    </tr>\n    <tr>\n      <th>4</th>\n      <td>5</td>\n      <td>es</td>\n      <td>Introducción. La infección intraabdominal gran...</td>\n    </tr>\n  </tbody>\n</table>\n</div>"
     },
     "execution_count": 57,
     "metadata": {},
     "output_type": "execute_result"
    }
   ],
   "source": [
    "barr.head()"
   ],
   "metadata": {
    "collapsed": false,
    "ExecuteTime": {
     "end_time": "2024-05-04T21:28:27.955584Z",
     "start_time": "2024-05-04T21:28:27.953406Z"
    }
   },
   "id": "2df1dc426237ae74"
  },
  {
   "cell_type": "markdown",
   "source": [
    "## Limpiar texto"
   ],
   "metadata": {
    "collapsed": false
   },
   "id": "56d5ee89e192fe71"
  },
  {
   "cell_type": "code",
   "execution_count": 58,
   "outputs": [],
   "source": [
    "def clean_text(df, columna):\n",
    "    df_copy = df.copy()\n",
    "    df_copy[columna] = df_copy[columna].str.replace('(', '')\n",
    "    df_copy[columna] = df_copy[columna].str.replace(')', '')\n",
    "    df_copy[columna] = df_copy[columna].str.replace('AU', '')\n",
    "    df_copy[columna] = df_copy[columna].str.replace(',', '')\n",
    "    df_copy[columna] = df_copy[columna].apply(lambda x: unidecode(x))\n",
    "    return df_copy"
   ],
   "metadata": {
    "collapsed": false,
    "ExecuteTime": {
     "end_time": "2024-05-04T21:28:27.959730Z",
     "start_time": "2024-05-04T21:28:27.956887Z"
    }
   },
   "id": "9e31402f9ff430db"
  },
  {
   "cell_type": "code",
   "execution_count": 59,
   "outputs": [],
   "source": [
    "barr1 = clean_text(barr, 'text')"
   ],
   "metadata": {
    "collapsed": false,
    "ExecuteTime": {
     "end_time": "2024-05-04T21:28:42.130945Z",
     "start_time": "2024-05-04T21:28:27.960552Z"
    }
   },
   "id": "bffb063601f5e31a"
  },
  {
   "cell_type": "markdown",
   "source": [
    "## Dataset Abreviaturas"
   ],
   "metadata": {
    "collapsed": false
   },
   "id": "ad7e045f428fc2a8"
  },
  {
   "cell_type": "code",
   "execution_count": 60,
   "outputs": [
    {
     "data": {
      "text/plain": "Abbreviation    804\nExpansion       804\ndtype: int64"
     },
     "execution_count": 60,
     "metadata": {},
     "output_type": "execute_result"
    }
   ],
   "source": [
    "abb_list = pd.read_csv(\"/Users/p1con/Documents/UNIVERSIDAD/TFG_code/data/abb_list_final.csv\", sep=',', quoting=3)\n",
    "abb_list = abb_list[['Abbreviation','Expansion']]\n",
    "abb = abb_list.drop_duplicates(subset='Expansion')\n",
    "abb.count()"
   ],
   "metadata": {
    "collapsed": false,
    "ExecuteTime": {
     "end_time": "2024-05-04T21:28:42.139350Z",
     "start_time": "2024-05-04T21:28:42.132171Z"
    }
   },
   "id": "b8ddd5b54b1863a7"
  },
  {
   "cell_type": "markdown",
   "source": [
    "expansion_counts = abb1.groupby('Abbreviation')['Expansion'].nunique()\n",
    "filtered_abbreviations = expansion_counts[expansion_counts > 1].index\n",
    "\n",
    "filtered_df = abb1[abb1['Abbreviation'].isin(filtered_abbreviations)]\n",
    "abb = filtered_df.drop_duplicates()\n",
    "abb.count()"
   ],
   "metadata": {
    "collapsed": false
   },
   "id": "dfa9d63ee2ba89b0"
  },
  {
   "cell_type": "code",
   "outputs": [
    {
     "data": {
      "text/plain": "Abbreviation\n5ASA    1\nAA      1\nAAE     1\nAAM     1\nAAN     1\n       ..\nug      1\nul      1\nung     1\nvo      1\nvr      1\nName: Expansion, Length: 703, dtype: int64"
     },
     "execution_count": 61,
     "metadata": {},
     "output_type": "execute_result"
    }
   ],
   "source": [
    "abb.groupby('Abbreviation')['Expansion'].nunique()"
   ],
   "metadata": {
    "collapsed": false,
    "ExecuteTime": {
     "end_time": "2024-05-04T21:28:42.144846Z",
     "start_time": "2024-05-04T21:28:42.140293Z"
    }
   },
   "id": "b34c9233d189e14",
   "execution_count": 61
  },
  {
   "cell_type": "markdown",
   "source": [
    "## Nuevos textos"
   ],
   "metadata": {
    "collapsed": false
   },
   "id": "dcbfdc2643c32d3a"
  },
  {
   "cell_type": "code",
   "execution_count": 62,
   "outputs": [],
   "source": [
    "expansions_set = set(abb['Expansion'])"
   ],
   "metadata": {
    "collapsed": false,
    "ExecuteTime": {
     "end_time": "2024-05-04T21:28:42.148014Z",
     "start_time": "2024-05-04T21:28:42.144645Z"
    }
   },
   "id": "ab12b5d68d0bdab9"
  },
  {
   "cell_type": "code",
   "execution_count": 63,
   "outputs": [],
   "source": [
    "def contains_expansion(text):\n",
    "    words = text.split()\n",
    "    return any(word in expansions_set for word in words)"
   ],
   "metadata": {
    "collapsed": false,
    "ExecuteTime": {
     "end_time": "2024-05-04T21:28:42.149011Z",
     "start_time": "2024-05-04T21:28:42.147610Z"
    }
   },
   "id": "c4df670dbceffc0d"
  },
  {
   "cell_type": "code",
   "execution_count": 64,
   "outputs": [
    {
     "data": {
      "text/plain": "text    46757\ndtype: int64"
     },
     "execution_count": 64,
     "metadata": {},
     "output_type": "execute_result"
    }
   ],
   "source": [
    "new_barr = barr1[barr1['text'].apply(contains_expansion)]\n",
    "new_barr = new_barr[['text']]\n",
    "new_barr.count()"
   ],
   "metadata": {
    "collapsed": false,
    "ExecuteTime": {
     "end_time": "2024-05-04T21:28:43.673013Z",
     "start_time": "2024-05-04T21:28:42.149818Z"
    }
   },
   "id": "155292dac1bfef53"
  },
  {
   "cell_type": "code",
   "outputs": [],
   "source": [
    "def replace_first_expansion(row, abbreviations_df, used_expansions):\n",
    "    text = row['text']\n",
    "    label = 0\n",
    "    expansion_column = None\n",
    "    \n",
    "    for i, expansion in enumerate(abbreviations_df['Expansion']):\n",
    "        abbreviation = abbreviations_df['Abbreviation'].iloc[i]\n",
    "        first_pattern = rf'(?<!\\S){re.escape(expansion)}(?!\\S).*?(?<!\\S){re.escape(abbreviation)}(?!\\S)'\n",
    "        if first_pattern in text and expansion not in used_expansions:\n",
    "            pattern = rf'(?<!\\S){re.escape(expansion)}(?!\\S)'\n",
    "            match = re.search(pattern, text)\n",
    "            \n",
    "            if match:\n",
    "                replacement = match.group()\n",
    "                text = text.replace(replacement + ' ', '', 1).replace(' ' + replacement, '', 1)\n",
    "                expansion_column = expansion\n",
    "                used_expansions.add(expansion)\n",
    "                label = 1\n",
    "                break\n",
    "        \n",
    "    if label == 0:\n",
    "        for i, expansion in enumerate(abbreviations_df['Expansion']):\n",
    "            abbreviation = abbreviations_df['Abbreviation'].iloc[i]\n",
    "            if expansion in text and abbreviation in text:\n",
    "                pattern = rf'(?<!\\S){re.escape(expansion)}(?!\\S)'\n",
    "                match = re.search(pattern, text)\n",
    "                abbrev = abbreviations_df[abbreviations_df['Expansion'] == expansion]['Abbreviation'].iloc[0]\n",
    "                pattern2 = rf'(?<!\\S){re.escape(abbrev)}(?!\\S)'\n",
    "                match2 = re.search(pattern2, text)\n",
    "                \n",
    "                if match and match2:\n",
    "                    replacement = match.group()\n",
    "                    text = text.replace(replacement + ' ', '', 1).replace(' ' + replacement, '', 1)\n",
    "                    expansion_column = expansion\n",
    "                    used_expansions.add(expansion)\n",
    "                    break\n",
    "    \n",
    "    row['Exp'] = expansion_column\n",
    "    row['no_exp'] = text\n",
    "    return row"
   ],
   "metadata": {
    "collapsed": false,
    "ExecuteTime": {
     "end_time": "2024-05-04T21:28:43.742253Z",
     "start_time": "2024-05-04T21:28:43.739658Z"
    }
   },
   "id": "b9de3fd82b5c152b",
   "execution_count": 65
  },
  {
   "cell_type": "code",
   "outputs": [],
   "source": [
    "def process_text_fields(df, abbreviations_df):\n",
    "    df_copy = df.copy()\n",
    "    df_copy = df_copy.apply(lambda row: replace_first_expansion(row, abbreviations_df, set()), axis=1)\n",
    "\n",
    "    df_copy['no_abb'] = df['text'].copy()\n",
    "    df_copy['Abb'] = None\n",
    "    used_expansions = set()\n",
    "    \n",
    "    for i, row in df_copy.iterrows():\n",
    "        expansion = row['Exp']\n",
    "        if expansion:\n",
    "            available_abbreviations = abbreviations_df[abbreviations_df['Expansion'] == expansion]['Abbreviation'].tolist()\n",
    "            for abbreviation in available_abbreviations:\n",
    "                df_copy.at[i, 'no_abb'] = df_copy.at[i, 'no_abb'].replace(abbreviation, '', 1)\n",
    "                df_copy.at[i, 'Abb'] = abbreviation\n",
    "                used_expansions.add(expansion)\n",
    "                break\n",
    "\n",
    "    return df_copy"
   ],
   "metadata": {
    "collapsed": false,
    "ExecuteTime": {
     "end_time": "2024-05-04T21:28:43.745206Z",
     "start_time": "2024-05-04T21:28:43.743174Z"
    }
   },
   "id": "aaf4eb7ff940f244",
   "execution_count": 66
  },
  {
   "cell_type": "code",
   "execution_count": 67,
   "outputs": [],
   "source": [
    "df_modified = process_text_fields(new_barr, abb)\n",
    "df_modified['text1'] = df_modified['no_exp'].replace(r'\\s+', ' ', regex=True)\n",
    "df_modified['text2'] = df_modified['no_abb'].replace(r'\\s+', ' ', regex=True)"
   ],
   "metadata": {
    "collapsed": false,
    "ExecuteTime": {
     "end_time": "2024-05-04T21:35:09.975086Z",
     "start_time": "2024-05-04T21:28:43.777860Z"
    }
   },
   "id": "5617641427628ef0"
  },
  {
   "cell_type": "code",
   "execution_count": 68,
   "outputs": [
    {
     "data": {
      "text/plain": "                                                 text  \\\n1   Actualmente los pacientes con cancer de pulmon...   \n2   La asociacion de tumor carcinoide y carcinoma ...   \n5   Introduccion. Las afecciones granulomatosas de...   \n9   Introduccion: El tratamiento principal de la g...   \n12  La tina corporal es una infeccion superficial ...   \n\n                                              Exp  \\\n1   receptor del factor de crecimiento epidermico   \n2                                            None   \n5                                            None   \n9                                            None   \n12                                           None   \n\n                                               no_exp  \\\n1   Actualmente los pacientes con cancer de pulmon...   \n2   La asociacion de tumor carcinoide y carcinoma ...   \n5   Introduccion. Las afecciones granulomatosas de...   \n9   Introduccion: El tratamiento principal de la g...   \n12  La tina corporal es una infeccion superficial ...   \n\n                                               no_abb   Abb  \\\n1   Actualmente los pacientes con cancer de pulmon...  EGFR   \n2   La asociacion de tumor carcinoide y carcinoma ...  None   \n5   Introduccion. Las afecciones granulomatosas de...  None   \n9   Introduccion: El tratamiento principal de la g...  None   \n12  La tina corporal es una infeccion superficial ...  None   \n\n                                                text1  \\\n1   Actualmente los pacientes con cancer de pulmon...   \n2   La asociacion de tumor carcinoide y carcinoma ...   \n5   Introduccion. Las afecciones granulomatosas de...   \n9   Introduccion: El tratamiento principal de la g...   \n12  La tina corporal es una infeccion superficial ...   \n\n                                                text2  \n1   Actualmente los pacientes con cancer de pulmon...  \n2   La asociacion de tumor carcinoide y carcinoma ...  \n5   Introduccion. Las afecciones granulomatosas de...  \n9   Introduccion: El tratamiento principal de la g...  \n12  La tina corporal es una infeccion superficial ...  ",
      "text/html": "<div>\n<style scoped>\n    .dataframe tbody tr th:only-of-type {\n        vertical-align: middle;\n    }\n\n    .dataframe tbody tr th {\n        vertical-align: top;\n    }\n\n    .dataframe thead th {\n        text-align: right;\n    }\n</style>\n<table border=\"1\" class=\"dataframe\">\n  <thead>\n    <tr style=\"text-align: right;\">\n      <th></th>\n      <th>text</th>\n      <th>Exp</th>\n      <th>no_exp</th>\n      <th>no_abb</th>\n      <th>Abb</th>\n      <th>text1</th>\n      <th>text2</th>\n    </tr>\n  </thead>\n  <tbody>\n    <tr>\n      <th>1</th>\n      <td>Actualmente los pacientes con cancer de pulmon...</td>\n      <td>receptor del factor de crecimiento epidermico</td>\n      <td>Actualmente los pacientes con cancer de pulmon...</td>\n      <td>Actualmente los pacientes con cancer de pulmon...</td>\n      <td>EGFR</td>\n      <td>Actualmente los pacientes con cancer de pulmon...</td>\n      <td>Actualmente los pacientes con cancer de pulmon...</td>\n    </tr>\n    <tr>\n      <th>2</th>\n      <td>La asociacion de tumor carcinoide y carcinoma ...</td>\n      <td>None</td>\n      <td>La asociacion de tumor carcinoide y carcinoma ...</td>\n      <td>La asociacion de tumor carcinoide y carcinoma ...</td>\n      <td>None</td>\n      <td>La asociacion de tumor carcinoide y carcinoma ...</td>\n      <td>La asociacion de tumor carcinoide y carcinoma ...</td>\n    </tr>\n    <tr>\n      <th>5</th>\n      <td>Introduccion. Las afecciones granulomatosas de...</td>\n      <td>None</td>\n      <td>Introduccion. Las afecciones granulomatosas de...</td>\n      <td>Introduccion. Las afecciones granulomatosas de...</td>\n      <td>None</td>\n      <td>Introduccion. Las afecciones granulomatosas de...</td>\n      <td>Introduccion. Las afecciones granulomatosas de...</td>\n    </tr>\n    <tr>\n      <th>9</th>\n      <td>Introduccion: El tratamiento principal de la g...</td>\n      <td>None</td>\n      <td>Introduccion: El tratamiento principal de la g...</td>\n      <td>Introduccion: El tratamiento principal de la g...</td>\n      <td>None</td>\n      <td>Introduccion: El tratamiento principal de la g...</td>\n      <td>Introduccion: El tratamiento principal de la g...</td>\n    </tr>\n    <tr>\n      <th>12</th>\n      <td>La tina corporal es una infeccion superficial ...</td>\n      <td>None</td>\n      <td>La tina corporal es una infeccion superficial ...</td>\n      <td>La tina corporal es una infeccion superficial ...</td>\n      <td>None</td>\n      <td>La tina corporal es una infeccion superficial ...</td>\n      <td>La tina corporal es una infeccion superficial ...</td>\n    </tr>\n  </tbody>\n</table>\n</div>"
     },
     "execution_count": 68,
     "metadata": {},
     "output_type": "execute_result"
    }
   ],
   "source": [
    "df_modified.head()"
   ],
   "metadata": {
    "collapsed": false,
    "ExecuteTime": {
     "end_time": "2024-05-04T21:35:09.986979Z",
     "start_time": "2024-05-04T21:35:09.976652Z"
    }
   },
   "id": "829770dcf1af07c7"
  },
  {
   "cell_type": "code",
   "execution_count": 69,
   "outputs": [
    {
     "data": {
      "text/plain": "text      46757\nExp        6575\nno_exp    46757\nno_abb    46757\nAbb        6575\ntext1     46757\ntext2     46757\ndtype: int64"
     },
     "execution_count": 69,
     "metadata": {},
     "output_type": "execute_result"
    }
   ],
   "source": [
    "df_modified.count()"
   ],
   "metadata": {
    "collapsed": false,
    "ExecuteTime": {
     "end_time": "2024-05-04T21:35:10.017690Z",
     "start_time": "2024-05-04T21:35:09.978626Z"
    }
   },
   "id": "ab9ea8a8305ef093"
  },
  {
   "cell_type": "code",
   "execution_count": 70,
   "outputs": [
    {
     "data": {
      "text/plain": "text1    6575\ntext2    6575\ntext     6575\nExp      6575\nAbb      6575\ndtype: int64"
     },
     "execution_count": 70,
     "metadata": {},
     "output_type": "execute_result"
    }
   ],
   "source": [
    "df_no_none = df_modified.dropna(subset=['Abb', 'Exp'])\n",
    "df_no_none = df_no_none[['text1','text2','text','Exp','Abb']]\n",
    "df_no_none.reset_index(drop=True, inplace=True)\n",
    "df_no_none.count()"
   ],
   "metadata": {
    "collapsed": false,
    "ExecuteTime": {
     "end_time": "2024-05-04T21:35:10.054123Z",
     "start_time": "2024-05-04T21:35:09.997389Z"
    }
   },
   "id": "8d1a0a1f2306d922"
  },
  {
   "cell_type": "code",
   "outputs": [
    {
     "name": "stdout",
     "output_type": "stream",
     "text": [
      "receptor del factor de crecimiento epidermico\n",
      "EGFR\n",
      "\n",
      "\n",
      "\n",
      "Actualmente los pacientes con cancer de pulmon no microcitico CPNM avanzado portadores de mutaciones del EGFR y probablemente en un futuro cercano los pacientes con reordenamientos del gen de la quinasa del linfoma anaplasico ALK pueden recibir un tratamiento especifico basado en el resultado del analisis de biomarcadores. Esto les proporcionara mayor calidad de vida y supervivencia libre de progresion que la quimioterapia convencional. Este documento de consenso nace como una iniciativa conjunta de la Sociedad Espanola de Anatomia Patologica SEAP y de la Sociedad Espanola de Oncologia Medica SEOM y propone recomendaciones diagnosticas y terapeuticas para el paciente con CPNM avanzado basadas en la evidencia cientifica relacionada con el uso de biomarcadores. Por tanto supone una oportunidad para mejorar la eficiencia de la actividad asistencial y la utilizacion de recursos lo que sin duda redundara en un beneficio para estos pacientes. Aunque este campo esta en constante evolucion en la actualidad con los datos disponibles este grupo de expertos recomienda que en todos los pacientes con CPNM avanzado de celulas no escamosas asi como en pacientes no fumadores con independencia del subtipo histologico se determine el estado mutacional del gen EGFR en un plazo maximo de 7 dias a partir del diagnostico anatomopatologico. Los laboratorios involucrados deben participar en programas de gestion de calidad externos. Por el contrario los reordenamientos del gen ALK solo se deben analizar en el marco de un ensayo clinico aunque con los datos tan prometedores que se han obtenido se justificara previsiblemente en un futuro proximo su estudio rutinario en pacientes sin mutaciones de EGFR. Por ultimo no se considera necesaria la determinacion rutinaria de otras anormalidades moleculares en la practica clinica actual\n",
      "\n",
      "\n",
      "\n",
      "Actualmente los pacientes con cancer de pulmon no microcitico CPNM avanzado portadores de mutaciones del receptor del factor de crecimiento epidermico y probablemente en un futuro cercano los pacientes con reordenamientos del gen de la quinasa del linfoma anaplasico ALK pueden recibir un tratamiento especifico basado en el resultado del analisis de biomarcadores. Esto les proporcionara mayor calidad de vida y supervivencia libre de progresion que la quimioterapia convencional. Este documento de consenso nace como una iniciativa conjunta de la Sociedad Espanola de Anatomia Patologica SEAP y de la Sociedad Espanola de Oncologia Medica SEOM y propone recomendaciones diagnosticas y terapeuticas para el paciente con CPNM avanzado basadas en la evidencia cientifica relacionada con el uso de biomarcadores. Por tanto supone una oportunidad para mejorar la eficiencia de la actividad asistencial y la utilizacion de recursos lo que sin duda redundara en un beneficio para estos pacientes. Aunque este campo esta en constante evolucion en la actualidad con los datos disponibles este grupo de expertos recomienda que en todos los pacientes con CPNM avanzado de celulas no escamosas asi como en pacientes no fumadores con independencia del subtipo histologico se determine el estado mutacional del gen EGFR en un plazo maximo de 7 dias a partir del diagnostico anatomopatologico. Los laboratorios involucrados deben participar en programas de gestion de calidad externos. Por el contrario los reordenamientos del gen ALK solo se deben analizar en el marco de un ensayo clinico aunque con los datos tan prometedores que se han obtenido se justificara previsiblemente en un futuro proximo su estudio rutinario en pacientes sin mutaciones de EGFR. Por ultimo no se considera necesaria la determinacion rutinaria de otras anormalidades moleculares en la practica clinica actual\n",
      "\n",
      "\n",
      "\n",
      "Actualmente los pacientes con cancer de pulmon no microcitico CPNM avanzado portadores de mutaciones del receptor del factor de crecimiento epidermico EGFR y probablemente en un futuro cercano los pacientes con reordenamientos del gen de la quinasa del linfoma anaplasico ALK pueden recibir un tratamiento especifico basado en el resultado del analisis de biomarcadores. Esto les proporcionara mayor calidad de vida y supervivencia libre de progresion que la quimioterapia convencional. Este documento de consenso nace como una iniciativa conjunta de la Sociedad Espanola de Anatomia Patologica SEAP y de la Sociedad Espanola de Oncologia Medica SEOM y propone recomendaciones diagnosticas y terapeuticas para el paciente con CPNM avanzado basadas en la evidencia cientifica relacionada con el uso de biomarcadores. Por tanto supone una oportunidad para mejorar la eficiencia de la actividad asistencial y la utilizacion de recursos lo que sin duda redundara en un beneficio para estos pacientes. Aunque este campo esta en constante evolucion en la actualidad con los datos disponibles este grupo de expertos recomienda que en todos los pacientes con CPNM avanzado de celulas no escamosas asi como en pacientes no fumadores con independencia del subtipo histologico se determine el estado mutacional del gen EGFR en un plazo maximo de 7 dias a partir del diagnostico anatomopatologico. Los laboratorios involucrados deben participar en programas de gestion de calidad externos. Por el contrario los reordenamientos del gen ALK solo se deben analizar en el marco de un ensayo clinico aunque con los datos tan prometedores que se han obtenido se justificara previsiblemente en un futuro proximo su estudio rutinario en pacientes sin mutaciones de EGFR. Por ultimo no se considera necesaria la determinacion rutinaria de otras anormalidades moleculares en la practica clinica actual\n"
     ]
    }
   ],
   "source": [
    "print(df_no_none['Exp'][0])\n",
    "print(df_no_none['Abb'][0])\n",
    "print('\\n\\n')\n",
    "print(df_no_none['text1'][0])\n",
    "print('\\n\\n')\n",
    "print(df_no_none['text2'][0])\n",
    "print('\\n\\n')\n",
    "print(df_no_none['text'][0])"
   ],
   "metadata": {
    "collapsed": false,
    "ExecuteTime": {
     "end_time": "2024-05-04T21:35:10.085985Z",
     "start_time": "2024-05-04T21:35:10.030206Z"
    }
   },
   "id": "c4a014b7acd7289d",
   "execution_count": 71
  },
  {
   "cell_type": "code",
   "execution_count": 72,
   "outputs": [],
   "source": [
    "def create_text3(row):\n",
    "    if row['Abb'] in row['text1']:\n",
    "        return row['text1'].replace(row['Abb'], f\"{row['Abb']} ({row['Exp']})\", 1)\n",
    "    else:\n",
    "        return row['text1']"
   ],
   "metadata": {
    "collapsed": false,
    "ExecuteTime": {
     "end_time": "2024-05-04T21:35:10.142138Z",
     "start_time": "2024-05-04T21:35:10.032656Z"
    }
   },
   "id": "8ec075dd7fc79af7"
  },
  {
   "cell_type": "code",
   "execution_count": 73,
   "outputs": [
    {
     "data": {
      "text/plain": "                                               text1  \\\n0  Actualmente los pacientes con cancer de pulmon...   \n1  OBJETIVO. Valorar las actividades sanitarias e...   \n2  INTRODUCCION. Valorar modificacion en 182 paci...   \n3  Presentamos un caso de artritis reactiva secun...   \n4  Estudio de dos pacientes con dolor intenso de ...   \n\n                                               text2  \\\n0  Actualmente los pacientes con cancer de pulmon...   \n1  OBJETIVO. Valorar las actividades sanitarias e...   \n2  INTRODUCCION. Valorar modificacion en 182 paci...   \n3  Presentamos un caso de artritis reactiva secun...   \n4  Estudio de dos pacientes con dolor intenso de ...   \n\n                                                text  \\\n0  Actualmente los pacientes con cancer de pulmon...   \n1  OBJETIVO. Valorar las actividades sanitarias e...   \n2  INTRODUCCION. Valorar modificacion en 182 paci...   \n3  Presentamos un caso de artritis reactiva secun...   \n4  Estudio de dos pacientes con dolor intenso de ...   \n\n                                             Exp   Abb  \\\n0  receptor del factor de crecimiento epidermico  EGFR   \n1                               presion arterial    PA   \n2                 lipoproteinas de baja densidad   LDL   \n3               antiinflamatorios no esteroideos  AINE   \n4                   resonancia magnetica nuclear   RMN   \n\n                                               text3  \n0  Actualmente los pacientes con cancer de pulmon...  \n1  OBJETIVO. Valorar las actividades sanitarias e...  \n2  INTRODUCCION. Valorar modificacion en 182 paci...  \n3  Presentamos un caso de artritis reactiva secun...  \n4  Estudio de dos pacientes con dolor intenso de ...  ",
      "text/html": "<div>\n<style scoped>\n    .dataframe tbody tr th:only-of-type {\n        vertical-align: middle;\n    }\n\n    .dataframe tbody tr th {\n        vertical-align: top;\n    }\n\n    .dataframe thead th {\n        text-align: right;\n    }\n</style>\n<table border=\"1\" class=\"dataframe\">\n  <thead>\n    <tr style=\"text-align: right;\">\n      <th></th>\n      <th>text1</th>\n      <th>text2</th>\n      <th>text</th>\n      <th>Exp</th>\n      <th>Abb</th>\n      <th>text3</th>\n    </tr>\n  </thead>\n  <tbody>\n    <tr>\n      <th>0</th>\n      <td>Actualmente los pacientes con cancer de pulmon...</td>\n      <td>Actualmente los pacientes con cancer de pulmon...</td>\n      <td>Actualmente los pacientes con cancer de pulmon...</td>\n      <td>receptor del factor de crecimiento epidermico</td>\n      <td>EGFR</td>\n      <td>Actualmente los pacientes con cancer de pulmon...</td>\n    </tr>\n    <tr>\n      <th>1</th>\n      <td>OBJETIVO. Valorar las actividades sanitarias e...</td>\n      <td>OBJETIVO. Valorar las actividades sanitarias e...</td>\n      <td>OBJETIVO. Valorar las actividades sanitarias e...</td>\n      <td>presion arterial</td>\n      <td>PA</td>\n      <td>OBJETIVO. Valorar las actividades sanitarias e...</td>\n    </tr>\n    <tr>\n      <th>2</th>\n      <td>INTRODUCCION. Valorar modificacion en 182 paci...</td>\n      <td>INTRODUCCION. Valorar modificacion en 182 paci...</td>\n      <td>INTRODUCCION. Valorar modificacion en 182 paci...</td>\n      <td>lipoproteinas de baja densidad</td>\n      <td>LDL</td>\n      <td>INTRODUCCION. Valorar modificacion en 182 paci...</td>\n    </tr>\n    <tr>\n      <th>3</th>\n      <td>Presentamos un caso de artritis reactiva secun...</td>\n      <td>Presentamos un caso de artritis reactiva secun...</td>\n      <td>Presentamos un caso de artritis reactiva secun...</td>\n      <td>antiinflamatorios no esteroideos</td>\n      <td>AINE</td>\n      <td>Presentamos un caso de artritis reactiva secun...</td>\n    </tr>\n    <tr>\n      <th>4</th>\n      <td>Estudio de dos pacientes con dolor intenso de ...</td>\n      <td>Estudio de dos pacientes con dolor intenso de ...</td>\n      <td>Estudio de dos pacientes con dolor intenso de ...</td>\n      <td>resonancia magnetica nuclear</td>\n      <td>RMN</td>\n      <td>Estudio de dos pacientes con dolor intenso de ...</td>\n    </tr>\n  </tbody>\n</table>\n</div>"
     },
     "execution_count": 73,
     "metadata": {},
     "output_type": "execute_result"
    }
   ],
   "source": [
    "df_final = df_no_none.copy()\n",
    "df_final['text3'] = df_final.apply(create_text3, axis=1)\n",
    "df_final.reset_index(drop=True, inplace=True)\n",
    "df_final.head()"
   ],
   "metadata": {
    "collapsed": false,
    "ExecuteTime": {
     "end_time": "2024-05-04T21:35:10.165218Z",
     "start_time": "2024-05-04T21:35:10.034864Z"
    }
   },
   "id": "9ed2b32caf47dda5"
  },
  {
   "cell_type": "code",
   "outputs": [],
   "source": [
    "def create_Offset(row):\n",
    "    first_pos = row['text3'].find(row['Abb'])\n",
    "    end_pos = first_pos + len(row['Abb'])\n",
    "    return first_pos, end_pos"
   ],
   "metadata": {
    "collapsed": false,
    "ExecuteTime": {
     "end_time": "2024-05-04T21:35:10.165654Z",
     "start_time": "2024-05-04T21:35:10.100473Z"
    }
   },
   "id": "b882ce09a3805395",
   "execution_count": 74
  },
  {
   "cell_type": "code",
   "outputs": [
    {
     "data": {
      "text/plain": "text1        6575\ntext2        6575\ntext         6575\nExp          6575\nAbb          6575\ntext3        6575\nstart_pos    6575\nend_pos      6575\ndtype: int64"
     },
     "execution_count": 75,
     "metadata": {},
     "output_type": "execute_result"
    }
   ],
   "source": [
    "df_final2 = df_final.copy()\n",
    "df_final2[['start_pos', 'end_pos']] = df_final2.apply(create_Offset, axis=1, result_type='expand')\n",
    "df_final2.reset_index(drop=True, inplace=True)\n",
    "df_final2.count()"
   ],
   "metadata": {
    "collapsed": false,
    "ExecuteTime": {
     "end_time": "2024-05-04T21:35:10.199713Z",
     "start_time": "2024-05-04T21:35:10.102849Z"
    }
   },
   "id": "851b3c91ef7de6fd",
   "execution_count": 75
  },
  {
   "cell_type": "code",
   "execution_count": 76,
   "outputs": [
    {
     "data": {
      "text/plain": "                                               text3  \\\n0  Actualmente los pacientes con cancer de pulmon...   \n1  OBJETIVO. Valorar las actividades sanitarias e...   \n2  INTRODUCCION. Valorar modificacion en 182 paci...   \n3  Presentamos un caso de artritis reactiva secun...   \n4  Estudio de dos pacientes con dolor intenso de ...   \n\n                                             Exp   Abb  start_pos  end_pos  \n0  receptor del factor de crecimiento epidermico  EGFR        105      109  \n1                               presion arterial    PA        777      779  \n2                 lipoproteinas de baja densidad   LDL        551      554  \n3               antiinflamatorios no esteroideos  AINE        437      441  \n4                   resonancia magnetica nuclear   RMN        278      281  ",
      "text/html": "<div>\n<style scoped>\n    .dataframe tbody tr th:only-of-type {\n        vertical-align: middle;\n    }\n\n    .dataframe tbody tr th {\n        vertical-align: top;\n    }\n\n    .dataframe thead th {\n        text-align: right;\n    }\n</style>\n<table border=\"1\" class=\"dataframe\">\n  <thead>\n    <tr style=\"text-align: right;\">\n      <th></th>\n      <th>text3</th>\n      <th>Exp</th>\n      <th>Abb</th>\n      <th>start_pos</th>\n      <th>end_pos</th>\n    </tr>\n  </thead>\n  <tbody>\n    <tr>\n      <th>0</th>\n      <td>Actualmente los pacientes con cancer de pulmon...</td>\n      <td>receptor del factor de crecimiento epidermico</td>\n      <td>EGFR</td>\n      <td>105</td>\n      <td>109</td>\n    </tr>\n    <tr>\n      <th>1</th>\n      <td>OBJETIVO. Valorar las actividades sanitarias e...</td>\n      <td>presion arterial</td>\n      <td>PA</td>\n      <td>777</td>\n      <td>779</td>\n    </tr>\n    <tr>\n      <th>2</th>\n      <td>INTRODUCCION. Valorar modificacion en 182 paci...</td>\n      <td>lipoproteinas de baja densidad</td>\n      <td>LDL</td>\n      <td>551</td>\n      <td>554</td>\n    </tr>\n    <tr>\n      <th>3</th>\n      <td>Presentamos un caso de artritis reactiva secun...</td>\n      <td>antiinflamatorios no esteroideos</td>\n      <td>AINE</td>\n      <td>437</td>\n      <td>441</td>\n    </tr>\n    <tr>\n      <th>4</th>\n      <td>Estudio de dos pacientes con dolor intenso de ...</td>\n      <td>resonancia magnetica nuclear</td>\n      <td>RMN</td>\n      <td>278</td>\n      <td>281</td>\n    </tr>\n  </tbody>\n</table>\n</div>"
     },
     "execution_count": 76,
     "metadata": {},
     "output_type": "execute_result"
    }
   ],
   "source": [
    "#full_ds = df_final[['Abb','Exp','text1','text3']]\n",
    "full_ds = df_final2[['text3','Exp','Abb','start_pos','end_pos']]\n",
    "full_ds.head()"
   ],
   "metadata": {
    "collapsed": false,
    "ExecuteTime": {
     "end_time": "2024-05-04T21:35:10.215951Z",
     "start_time": "2024-05-04T21:35:10.199493Z"
    }
   },
   "id": "be662d8ba421ea4"
  },
  {
   "cell_type": "code",
   "outputs": [
    {
     "name": "stdout",
     "output_type": "stream",
     "text": [
      "receptor del factor de crecimiento epidermico\n",
      "\n",
      "\n",
      "EGFR\n",
      "\n",
      "\n",
      "Actualmente los pacientes con cancer de pulmon no microcitico CPNM avanzado portadores de mutaciones del EGFR (receptor del factor de crecimiento epidermico) y probablemente en un futuro cercano los pacientes con reordenamientos del gen de la quinasa del linfoma anaplasico ALK pueden recibir un tratamiento especifico basado en el resultado del analisis de biomarcadores. Esto les proporcionara mayor calidad de vida y supervivencia libre de progresion que la quimioterapia convencional. Este documento de consenso nace como una iniciativa conjunta de la Sociedad Espanola de Anatomia Patologica SEAP y de la Sociedad Espanola de Oncologia Medica SEOM y propone recomendaciones diagnosticas y terapeuticas para el paciente con CPNM avanzado basadas en la evidencia cientifica relacionada con el uso de biomarcadores. Por tanto supone una oportunidad para mejorar la eficiencia de la actividad asistencial y la utilizacion de recursos lo que sin duda redundara en un beneficio para estos pacientes. Aunque este campo esta en constante evolucion en la actualidad con los datos disponibles este grupo de expertos recomienda que en todos los pacientes con CPNM avanzado de celulas no escamosas asi como en pacientes no fumadores con independencia del subtipo histologico se determine el estado mutacional del gen EGFR en un plazo maximo de 7 dias a partir del diagnostico anatomopatologico. Los laboratorios involucrados deben participar en programas de gestion de calidad externos. Por el contrario los reordenamientos del gen ALK solo se deben analizar en el marco de un ensayo clinico aunque con los datos tan prometedores que se han obtenido se justificara previsiblemente en un futuro proximo su estudio rutinario en pacientes sin mutaciones de EGFR. Por ultimo no se considera necesaria la determinacion rutinaria de otras anormalidades moleculares en la practica clinica actual\n",
      "\n",
      "\n",
      "105\n"
     ]
    }
   ],
   "source": [
    "print(full_ds['Exp'][0])\n",
    "print('\\n')\n",
    "print(full_ds['Abb'][0])\n",
    "print('\\n')\n",
    "print(full_ds['text3'][0])\n",
    "print('\\n')\n",
    "print(full_ds['start_pos'][0])"
   ],
   "metadata": {
    "collapsed": false,
    "ExecuteTime": {
     "end_time": "2024-05-04T21:35:10.216914Z",
     "start_time": "2024-05-04T21:35:10.203341Z"
    }
   },
   "id": "e46bd48e31f64ffe",
   "execution_count": 77
  },
  {
   "cell_type": "code",
   "execution_count": 78,
   "outputs": [
    {
     "data": {
      "text/plain": "text3        6575\nExp          6575\nAbb          6575\nstart_pos    6575\nend_pos      6575\ndtype: int64"
     },
     "execution_count": 78,
     "metadata": {},
     "output_type": "execute_result"
    }
   ],
   "source": [
    "#full_ds.to_csv('/Users/p1con/Documents/UNIVERSIDAD/APPLIED MATHEMATICS AND COMPUTING/TFG/datos/dataset-abb-exp-text.csv')\n",
    "full_ds.count()"
   ],
   "metadata": {
    "collapsed": false,
    "ExecuteTime": {
     "end_time": "2024-05-04T21:35:10.217354Z",
     "start_time": "2024-05-04T21:35:10.207709Z"
    }
   },
   "id": "cf19956ac6abdd96"
  },
  {
   "cell_type": "code",
   "execution_count": 79,
   "outputs": [],
   "source": [
    "import numpy as np\n",
    "full_ds.to_csv('/Users/p1con/Documents/UNIVERSIDAD/TFG_code/data/dataset4ft.csv')\n",
    "#np.savetxt('/Users/p1con/Documents/UNIVERSIDAD/TFG/datos/dataset-bueno.csv', full_ds, delimiter=';')"
   ],
   "metadata": {
    "collapsed": false,
    "ExecuteTime": {
     "end_time": "2024-05-04T21:35:10.336725Z",
     "start_time": "2024-05-04T21:35:10.210896Z"
    }
   },
   "id": "d9275e8760225296"
  },
  {
   "cell_type": "markdown",
   "source": [
    "## Analisis"
   ],
   "metadata": {
    "collapsed": false
   },
   "id": "4348fce8971e1aaf"
  },
  {
   "cell_type": "code",
   "outputs": [
    {
     "name": "stderr",
     "output_type": "stream",
     "text": [
      "[nltk_data] Downloading package punkt to /Users/p1con/nltk_data...\n",
      "[nltk_data]   Package punkt is already up-to-date!\n"
     ]
    },
    {
     "data": {
      "text/plain": "True"
     },
     "execution_count": 80,
     "metadata": {},
     "output_type": "execute_result"
    }
   ],
   "source": [
    "import pandas as pd\n",
    "import nltk\n",
    "from nltk.tokenize import word_tokenize, sent_tokenize\n",
    "nltk.download('punkt')"
   ],
   "metadata": {
    "collapsed": false,
    "ExecuteTime": {
     "end_time": "2024-05-04T21:40:10.676048Z",
     "start_time": "2024-05-04T21:35:10.336411Z"
    }
   },
   "id": "c86d745ce1a81aa7",
   "execution_count": 80
  },
  {
   "cell_type": "code",
   "outputs": [],
   "source": [
    "def count_words(text):\n",
    "    words = word_tokenize(text)\n",
    "    return len(words)\n",
    "\n",
    "def text_length(text):\n",
    "    return len(text)\n",
    "\n",
    "def count_sentences(text):\n",
    "    sentences = sent_tokenize(text)\n",
    "    return len(sentences)"
   ],
   "metadata": {
    "collapsed": false,
    "ExecuteTime": {
     "end_time": "2024-05-04T21:42:31.062518Z",
     "start_time": "2024-05-04T21:42:31.054049Z"
    }
   },
   "id": "a117d89e745ad95",
   "execution_count": 83
  },
  {
   "cell_type": "code",
   "outputs": [
    {
     "name": "stdout",
     "output_type": "stream",
     "text": [
      "Average number of words per text: 270.1029657794677\n",
      "Average text length (in characters): 1595.3247148288974\n",
      "Average sentence number: 10.589201520912548\n",
      "Maximum number of words in a text: 1004\n",
      "Minimum number of words in a text: 30\n",
      "Maximum text length (in characters): 5492\n",
      "Minimum text length (in characters): 171\n",
      "Maximum sentence count: 64\n",
      "Minimum sentence count: 1\n"
     ]
    }
   ],
   "source": [
    "texts = full_ds['text3']\n",
    "\n",
    "full_ds['word_count'] = texts.apply(count_words)\n",
    "full_ds['text_length'] = texts.apply(text_length)\n",
    "full_ds['sentence_count'] = texts.apply(count_sentences)\n",
    "\n",
    "max_word_count = full_ds['word_count'].max()\n",
    "min_word_count = full_ds['word_count'].min()\n",
    "max_text_length = full_ds['text_length'].max()\n",
    "min_text_length = full_ds['text_length'].min()\n",
    "max_sentence_count = full_ds['sentence_count'].max()\n",
    "min_sentence_count = full_ds['sentence_count'].min()\n",
    "\n",
    "avg_word_count = full_ds['word_count'].mean()\n",
    "avg_text_length = full_ds['text_length'].mean()\n",
    "avg_sentence_count = full_ds['sentence_count'].mean()\n",
    "\n",
    "print(\"Average number of words per text:\", avg_word_count)\n",
    "print(\"Average text length (in characters):\", avg_text_length)\n",
    "print(\"Average sentence number:\", avg_sentence_count)\n",
    "print(\"Maximum number of words in a text:\", max_word_count)\n",
    "print(\"Minimum number of words in a text:\", min_word_count)\n",
    "print(\"Maximum text length (in characters):\", max_text_length)\n",
    "print(\"Minimum text length (in characters):\", min_text_length)\n",
    "print(\"Maximum sentence count:\", max_sentence_count)\n",
    "print(\"Minimum sentence count:\", min_sentence_count)"
   ],
   "metadata": {
    "collapsed": false,
    "ExecuteTime": {
     "end_time": "2024-05-04T21:58:59.634246Z",
     "start_time": "2024-05-04T21:58:53.349292Z"
    }
   },
   "id": "2dc87f53d68598c0",
   "execution_count": 87
  },
  {
   "cell_type": "code",
   "execution_count": null,
   "outputs": [],
   "source": [
    "df = pd.read_csv(\"/Users/p1con/Documents/UNIVERSIDAD/TFG/datos/dataset-bueno-offsets.csv\", sep=',')\n",
    "df.count()"
   ],
   "metadata": {
    "collapsed": false,
    "ExecuteTime": {
     "start_time": "2024-05-04T21:40:17.241136Z"
    }
   },
   "id": "977c0c4698cf161a"
  },
  {
   "cell_type": "code",
   "execution_count": null,
   "outputs": [],
   "source": [],
   "metadata": {
    "collapsed": false,
    "ExecuteTime": {
     "start_time": "2024-05-04T21:40:17.242392Z"
    }
   },
   "id": "40d46df5580752c5"
  }
 ],
 "metadata": {
  "kernelspec": {
   "display_name": "Python 3",
   "language": "python",
   "name": "python3"
  },
  "language_info": {
   "codemirror_mode": {
    "name": "ipython",
    "version": 2
   },
   "file_extension": ".py",
   "mimetype": "text/x-python",
   "name": "python",
   "nbconvert_exporter": "python",
   "pygments_lexer": "ipython2",
   "version": "2.7.6"
  }
 },
 "nbformat": 4,
 "nbformat_minor": 5
}
